{
 "cells": [
  {
   "cell_type": "code",
   "execution_count": 3,
   "metadata": {},
   "outputs": [
    {
     "name": "stdout",
     "output_type": "stream",
     "text": [
      "Welcome to the Number Guessing Game!\n",
      "Hello, Soumyodeep! I'm thinking of a number between 1 and 100. Try to guess it within 10 attempts.\n",
      "Too low! Try again.\n",
      "Too high! Try again.\n",
      "Too high! Try again.\n",
      "Too low! Try again.\n",
      "Too high! Try again.\n",
      "Too high! Try again.\n",
      "Congratulations, Soumyodeep! You guessed the number 56 correctly in 7 attempts.\n",
      "Thank you for playing the Number Guessing Game. Goodbye!\n"
     ]
    }
   ],
   "source": [
    "import random\n",
    "\n",
    "def main():\n",
    "    print(\"Welcome to the Number Guessing Game!\")\n",
    "    player_name = input(\"What's your name? \")\n",
    "    print(f\"Hello, {player_name}! I'm thinking of a number between 1 and 100. Try to guess it within 10 attempts.\")\n",
    "\n",
    "    play_game(player_name)  # Pass player_name to the play_game function\n",
    "\n",
    "def play_game(player_name):  # Accept player_name as an argument\n",
    "    secret_number = random.randint(1, 100)\n",
    "    attempts = 0\n",
    "    max_attempts = 10\n",
    "\n",
    "    while attempts < max_attempts:\n",
    "        try:\n",
    "            user_guess = int(input(\"Enter your guess: \"))\n",
    "        except ValueError:\n",
    "            print(\"Please enter a valid number.\")\n",
    "            continue\n",
    "\n",
    "        attempts += 1\n",
    "\n",
    "        if user_guess == secret_number:\n",
    "            print(f\"Congratulations, {player_name}! You guessed the number {secret_number} correctly in {attempts} attempts.\")\n",
    "            play_again()\n",
    "            break\n",
    "        elif user_guess < secret_number:\n",
    "            print(\"Too low! Try again.\")\n",
    "        else:\n",
    "            print(\"Too high! Try again.\")\n",
    "\n",
    "    if attempts == max_attempts:\n",
    "        print(f\"Sorry, {player_name}. You've used all your attempts. The secret number was {secret_number}.\")\n",
    "        play_again()\n",
    "\n",
    "def play_again():\n",
    "    play_again_input = input(\"Do you want to play again? (yes/no): \").lower()\n",
    "    if play_again_input == \"yes\":\n",
    "        main()  # Start a new game by calling main()\n",
    "    else:\n",
    "        print(\"Thank you for playing the Number Guessing Game. Goodbye!\")\n",
    "\n",
    "if __name__ == \"__main__\":\n",
    "    main()\n"
   ]
  }
 ],
 "metadata": {
  "kernelspec": {
   "display_name": "Python 3",
   "language": "python",
   "name": "python3"
  },
  "language_info": {
   "codemirror_mode": {
    "name": "ipython",
    "version": 3
   },
   "file_extension": ".py",
   "mimetype": "text/x-python",
   "name": "python",
   "nbconvert_exporter": "python",
   "pygments_lexer": "ipython3",
   "version": "3.11.2"
  },
  "orig_nbformat": 4
 },
 "nbformat": 4,
 "nbformat_minor": 2
}
