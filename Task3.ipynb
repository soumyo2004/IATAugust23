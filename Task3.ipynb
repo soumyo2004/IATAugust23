{
 "cells": [
  {
   "cell_type": "code",
   "execution_count": 1,
   "metadata": {},
   "outputs": [
    {
     "name": "stdout",
     "output_type": "stream",
     "text": [
      "Welcome to the Dice Rolling App!\n",
      "Dice result(s): 4, 3\n",
      "Dice result(s): 5, 6, 3\n",
      "Thank you for using the Dice Rolling App. Goodbye!\n"
     ]
    }
   ],
   "source": [
    "import random\n",
    "\n",
    "def roll_dice(num_dice):\n",
    "    results = [random.randint(1, 6) for _ in range(num_dice)]\n",
    "    return results\n",
    "\n",
    "def main():\n",
    "    print(\"Welcome to the Dice Rolling App!\")\n",
    "\n",
    "    while True:\n",
    "        try:\n",
    "            num_dice = int(input(\"Enter the number of dice to roll (or 0 to quit): \"))\n",
    "            if num_dice == 0:\n",
    "                print(\"Thank you for using the Dice Rolling App. Goodbye!\")\n",
    "                break\n",
    "            elif num_dice < 0:\n",
    "                print(\"Please enter a positive number of dice or 0 to quit.\")\n",
    "                continue\n",
    "\n",
    "            dice_results = roll_dice(num_dice)\n",
    "            print(f\"Dice result(s): {', '.join(map(str, dice_results))}\")\n",
    "        except ValueError:\n",
    "            print(\"Please enter a valid number.\")\n",
    "\n",
    "if __name__ == \"__main__\":\n",
    "    main()\n"
   ]
  }
 ],
 "metadata": {
  "kernelspec": {
   "display_name": "Python 3",
   "language": "python",
   "name": "python3"
  },
  "language_info": {
   "codemirror_mode": {
    "name": "ipython",
    "version": 3
   },
   "file_extension": ".py",
   "mimetype": "text/x-python",
   "name": "python",
   "nbconvert_exporter": "python",
   "pygments_lexer": "ipython3",
   "version": "3.11.2"
  },
  "orig_nbformat": 4
 },
 "nbformat": 4,
 "nbformat_minor": 2
}
